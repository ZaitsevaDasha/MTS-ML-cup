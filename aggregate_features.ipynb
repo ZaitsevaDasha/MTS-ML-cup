{
 "cells": [
  {
   "cell_type": "code",
   "execution_count": 1,
   "id": "ee32af25",
   "metadata": {},
   "outputs": [],
   "source": [
    "import os\n",
    "import pandas as pd\n",
    "import numpy as np\n",
    "from tqdm import tqdm\n",
    "from fastparquet import ParquetFile\n",
    "from sklearn.preprocessing import LabelEncoder\n",
    "\n",
    "import warnings\n",
    "warnings.filterwarnings('ignore')"
   ]
  },
  {
   "cell_type": "code",
   "execution_count": null,
   "id": "e3413a12",
   "metadata": {},
   "outputs": [],
   "source": [
    "DATA_FOLDER = 'data/competition_data_final_pqt'"
   ]
  },
  {
   "cell_type": "markdown",
   "id": "b510e187",
   "metadata": {},
   "source": [
    "### Препроцессинг"
   ]
  },
  {
   "cell_type": "markdown",
   "id": "ecbf9edc",
   "metadata": {},
   "source": [
    "Делаем словарь устройство - цена, чтобы заполнить недостающие значения:"
   ]
  },
  {
   "cell_type": "code",
   "execution_count": null,
   "id": "6ef8c239",
   "metadata": {},
   "outputs": [],
   "source": [
    "prices_data = []\n",
    "for file in tqdm(os.listdir(DATA_FOLDER)):\n",
    "    parquet = ParquetFile(os.path.join(DATA_FOLDER, file))\n",
    "    data = parquet.to_pandas(['cpe_model_name', 'price'])\n",
    "    prices_data.append(data)\n",
    "models2prices = pd.concat(prices_data, axis=0)\n",
    "\n",
    "models2prices = models2prices.groupby('cpe_model_name')['price'].first().round().to_dict()"
   ]
  },
  {
   "cell_type": "code",
   "execution_count": null,
   "id": "1a99c253",
   "metadata": {},
   "outputs": [],
   "source": [
    "def preprocess_data(data):\n",
    "\n",
    "    data['date'] = pd.to_datetime(data['date'])\n",
    "    data['day'] = data['date'].dt.day\n",
    "    data['month'] = data['date'].dt.month\n",
    "    data['year'] = data['date'].dt.year\n",
    "\n",
    "    data = data.sort_values(by=['user_id', 'date'])\n",
    "\n",
    "    data['price'] = data['cpe_model_name'].map(models2prices)\n",
    "\n",
    "    return data"
   ]
  },
  {
   "cell_type": "code",
   "execution_count": null,
   "id": "48a10c6f",
   "metadata": {},
   "outputs": [],
   "source": [
    "for i, file in tqdm(enumerate(os.listdir(DATA_FOLDER))):\n",
    "    parquet = ParquetFile(os.path.join(DATA_FOLDER, file))\n",
    "    data = parquet.to_pandas()\n",
    "    preprocessed_data = preprocess_data(data)\n",
    "    preprocessed_data.to_parquet(f'preprocessed2/data_part{i}.parquet', engine='fastparquet')"
   ]
  },
  {
   "cell_type": "markdown",
   "id": "d4501c99",
   "metadata": {},
   "source": [
    "### Аггрегация"
   ]
  },
  {
   "cell_type": "markdown",
   "id": "902e5134",
   "metadata": {},
   "source": [
    "Аггрегируем новые признаки:\n",
    "- статистики по кол-ву запросов\n",
    "- кол-во уникальных значений посещенных сайтов, городов и регионов\n",
    "- мода по категориальным переменным\n",
    "- среднее и максимум по цене устройства\n",
    "- длительность периода активности пользователя\n",
    "- отношение количества запросов к длительности\n",
    "- кол-во запросов в среднем за день / месяц\n",
    "- доли запросов за утро / день / вечер / ночь\n",
    "- кол-во дней без запросов"
   ]
  },
  {
   "cell_type": "code",
   "execution_count": null,
   "id": "cdfb2268",
   "metadata": {},
   "outputs": [],
   "source": [
    "def get_mode(series):\n",
    "    return series.mode().iloc[0] if not series.mode().empty else None\n",
    "\n",
    "agg_func = {'price': ['mean', 'max'], \n",
    "                'request_cnt': ['mean', 'median', 'std', 'min', 'max', 'sum'],\n",
    "                'region_name': ['nunique', get_mode],\n",
    "                'city_name': ['nunique', get_mode], \n",
    "                'cpe_manufacturer_name': [get_mode], \n",
    "                'cpe_type_cd': [get_mode], \n",
    "                'cpe_model_os_type': [get_mode], \n",
    "                'date': ['first', 'last'],\n",
    "                'url_host': ['nunique']}"
   ]
  },
  {
   "cell_type": "code",
   "execution_count": null,
   "id": "55d531c1",
   "metadata": {},
   "outputs": [],
   "source": [
    "def aggregate_features(data):\n",
    "\n",
    "    table = pd.pivot_table(data, values=['price', 'request_cnt', 'region_name', 'city_name', 'date',\n",
    "                                        'cpe_manufacturer_name', 'cpe_type_cd', 'cpe_model_os_type', \n",
    "                                        'cpe_model_name', 'url_host'], \n",
    "                            index=['user_id'], aggfunc=agg_func)\n",
    "\n",
    "    table.columns = table.columns.map(' '.join)\n",
    "    table['duration'] = (table['date last'] - table['date first']) / np.timedelta64(1, 'D')\n",
    "    table = table.drop(['date first', 'date last'], axis=1)\n",
    "    table['frequency'] = table['duration'] / table['request_cnt sum']\n",
    "\n",
    "    month_requests = data.groupby(['user_id', 'year', 'month'])['request_cnt'].agg('sum').to_frame(name='avg_month')\n",
    "    avg_month_requests = month_requests.groupby('user_id').agg('mean')\n",
    "    day_requests = data.groupby(['user_id', 'year', 'month', 'day'])['request_cnt'].agg('sum').to_frame(name='avg_day')\n",
    "    avg_day_requests = day_requests.groupby('user_id').agg('mean')\n",
    "\n",
    "    data['days_since_prev'] = data.groupby('user_id')['date'].diff().dt.days\n",
    "    churn_1 = data[data['days_since_prev'] > 1].groupby('user_id')['days_since_prev'].count().to_frame(name='churn1')\n",
    "    churn_10 = data[data['days_since_prev'] > 10].groupby('user_id')['days_since_prev'].count().to_frame(name='churn10')\n",
    "    churn_30 = data[data['days_since_prev'] > 30].groupby('user_id')['days_since_prev'].count().to_frame(name='churn30')\n",
    "\n",
    "    df_pod = pd.pivot_table(data, values='request_cnt', index=['user_id'], columns=['part_of_day'], aggfunc=np.sum).reset_index().fillna(0)\n",
    "\n",
    "    total_pod = df_pod['day'] + df_pod['evening'] + df_pod['morning'] + df_pod['night'] + 1\n",
    "    df_pod['day'] /= total_pod\n",
    "    df_pod['evening'] /= total_pod\n",
    "    df_pod['morning'] /= total_pod\n",
    "    df_pod['night'] /= total_pod\n",
    "\n",
    "    return pd.concat([table, avg_month_requests, df_pod, avg_day_requests,\n",
    "                     churn_1, churn_10, churn_30], axis=1)"
   ]
  },
  {
   "cell_type": "code",
   "execution_count": null,
   "id": "9b918702",
   "metadata": {},
   "outputs": [],
   "source": [
    "preproc_folder = 'preprocessed2'\n",
    "\n",
    "all_agg_data = []\n",
    "for i, file in enumerate(os.listdir(preproc_folder)):\n",
    "    parquet = ParquetFile(os.path.join(preproc_folder, file))\n",
    "    data = parquet.to_pandas(['user_id', 'request_cnt', 'date'])\n",
    "    all_agg_data.append(aggregate_features(data))\n",
    "train_features = pd.concat(all_agg_data)"
   ]
  },
  {
   "cell_type": "code",
   "execution_count": null,
   "id": "c3d2863f",
   "metadata": {},
   "outputs": [],
   "source": [
    "train_features = train_features.fillna(0)"
   ]
  },
  {
   "cell_type": "code",
   "execution_count": null,
   "id": "0838cf1c",
   "metadata": {},
   "outputs": [],
   "source": [
    "cat_columns = ['city_name get_mode', 'cpe_manufacturer_name get_mode', 'cpe_model_os_type get_mode',\n",
    "                'cpe_type_cd get_mode',  'region_name get_mode']\n",
    "\n",
    "label_enc = LabelEncoder()\n",
    "\n",
    "for feature in cat_columns:\n",
    "    train_features[feature] = label_enc.fit_transform(train_features[feature])"
   ]
  },
  {
   "cell_type": "code",
   "execution_count": null,
   "id": "27548e0f",
   "metadata": {},
   "outputs": [],
   "source": [
    "train_features.to_csv('data/train_features.csv', index=False)"
   ]
  }
 ],
 "metadata": {
  "kernelspec": {
   "display_name": "Python 3",
   "language": "python",
   "name": "python3"
  },
  "language_info": {
   "codemirror_mode": {
    "name": "ipython",
    "version": 3
   },
   "file_extension": ".py",
   "mimetype": "text/x-python",
   "name": "python",
   "nbconvert_exporter": "python",
   "pygments_lexer": "ipython3",
   "version": "3.12.10"
  }
 },
 "nbformat": 4,
 "nbformat_minor": 5
}
